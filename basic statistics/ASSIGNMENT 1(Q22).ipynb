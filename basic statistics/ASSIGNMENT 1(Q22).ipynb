{
 "cells": [
  {
   "cell_type": "code",
   "execution_count": 1,
   "id": "537b7d89",
   "metadata": {
    "ExecuteTime": {
     "end_time": "2022-11-08T14:48:12.740834Z",
     "start_time": "2022-11-08T14:48:12.179309Z"
    }
   },
   "outputs": [],
   "source": [
    "from scipy import stats\n",
    "from scipy.stats import norm "
   ]
  },
  {
   "cell_type": "code",
   "execution_count": 2,
   "id": "120e4e3e",
   "metadata": {
    "ExecuteTime": {
     "end_time": "2022-11-08T14:48:40.243538Z",
     "start_time": "2022-11-08T14:48:40.223454Z"
    }
   },
   "outputs": [
    {
     "data": {
      "text/plain": [
       "1.6448536269514722"
      ]
     },
     "execution_count": 2,
     "metadata": {},
     "output_type": "execute_result"
    }
   ],
   "source": [
    "# Z-score of 90% confidence interval \n",
    "stats.norm.ppf(0.95)"
   ]
  },
  {
   "cell_type": "code",
   "execution_count": 3,
   "id": "bc95c259",
   "metadata": {
    "ExecuteTime": {
     "end_time": "2022-11-08T14:48:58.603312Z",
     "start_time": "2022-11-08T14:48:58.580973Z"
    }
   },
   "outputs": [
    {
     "data": {
      "text/plain": [
       "1.8807936081512509"
      ]
     },
     "execution_count": 3,
     "metadata": {},
     "output_type": "execute_result"
    }
   ],
   "source": [
    "# Z-score of 94% confidence interval\n",
    "stats.norm.ppf(0.97)"
   ]
  },
  {
   "cell_type": "code",
   "execution_count": 4,
   "id": "f6fccae2",
   "metadata": {
    "ExecuteTime": {
     "end_time": "2022-11-08T14:49:13.661498Z",
     "start_time": "2022-11-08T14:49:13.650912Z"
    }
   },
   "outputs": [
    {
     "data": {
      "text/plain": [
       "0.8416212335729143"
      ]
     },
     "execution_count": 4,
     "metadata": {},
     "output_type": "execute_result"
    }
   ],
   "source": [
    "# Z-score of 60% confidence interval\n",
    "stats.norm.ppf(0.8)"
   ]
  },
  {
   "cell_type": "code",
   "execution_count": null,
   "id": "9383e434",
   "metadata": {},
   "outputs": [],
   "source": []
  }
 ],
 "metadata": {
  "kernelspec": {
   "display_name": "Python 3 (ipykernel)",
   "language": "python",
   "name": "python3"
  },
  "language_info": {
   "codemirror_mode": {
    "name": "ipython",
    "version": 3
   },
   "file_extension": ".py",
   "mimetype": "text/x-python",
   "name": "python",
   "nbconvert_exporter": "python",
   "pygments_lexer": "ipython3",
   "version": "3.9.12"
  }
 },
 "nbformat": 4,
 "nbformat_minor": 5
}
